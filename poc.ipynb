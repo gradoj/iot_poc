{
 "cells": [
  {
   "cell_type": "code",
   "execution_count": 25,
   "id": "3bbb59fe",
   "metadata": {},
   "outputs": [
    {
     "name": "stdout",
     "output_type": "stream",
     "text": [
      "1.22.2\n"
     ]
    }
   ],
   "source": [
    "import numpy as np\n",
    "import ipldstore\n",
    "import xarray as xr\n",
    "from pprint import pprint\n",
    "from multiformats import CID\n",
    "import matplotlib.pyplot as plt\n",
    "\n",
    "print(np.version.full_version)"
   ]
  },
  {
   "cell_type": "code",
   "execution_count": 27,
   "id": "6d472b9a",
   "metadata": {},
   "outputs": [
    {
     "name": "stdout",
     "output_type": "stream",
     "text": [
      "bafyreidmc6z6muggwxtstcs2nwvssor73wbkf67fy3pwdellsfzc2vs3mq\n",
      "Sent <xarray.Dataset>\n",
      "Dimensions:            (receivedtimestamp: 345103)\n",
      "Coordinates:\n",
      "    Latitude           (receivedtimestamp) float32 dask.array<chunksize=(86276,), meta=np.ndarray>\n",
      "    Longitude          (receivedtimestamp) float32 dask.array<chunksize=(86276,), meta=np.ndarray>\n",
      "    PubKey             (receivedtimestamp) object dask.array<chunksize=(43138,), meta=np.ndarray>\n",
      "Dimensions without coordinates: receivedtimestamp\n",
      "Data variables:\n",
      "    Datarate           (receivedtimestamp) object dask.array<chunksize=(43138,), meta=np.ndarray>\n",
      "    Frequency          (receivedtimestamp) int32 dask.array<chunksize=(86276,), meta=np.ndarray>\n",
      "    GridLat            (receivedtimestamp) float32 dask.array<chunksize=(86276,), meta=np.ndarray>\n",
      "    GridLon            (receivedtimestamp) float32 dask.array<chunksize=(86276,), meta=np.ndarray>\n",
      "    HexLocation        (receivedtimestamp) int64 dask.array<chunksize=(43138,), meta=np.ndarray>\n",
      "    HexScale           (receivedtimestamp) float32 dask.array<chunksize=(86276,), meta=np.ndarray>\n",
      "    PocId              (receivedtimestamp) object dask.array<chunksize=(43138,), meta=np.ndarray>\n",
      "    ReceivedTimestamp  (receivedtimestamp) datetime64[ns] dask.array<chunksize=(43138,), meta=np.ndarray>\n",
      "    ReportedTimestamp  (receivedtimestamp) datetime64[ns] dask.array<chunksize=(43138,), meta=np.ndarray>\n",
      "    RewardUnit         (receivedtimestamp) int32 dask.array<chunksize=(86276,), meta=np.ndarray>\n",
      "    Tmst               (receivedtimestamp) int64 dask.array<chunksize=(43138,), meta=np.ndarray>\n",
      "    TxPower            (receivedtimestamp) int32 dask.array<chunksize=(86276,), meta=np.ndarray>\n",
      "Start Date 2023-01-26T20:41:50.996000000\n",
      "End Date 2023-01-27T05:00:40.528000000\n",
      "\n",
      "Received Beacons <xarray.Dataset>\n",
      "Dimensions:            (receivedtimestamp: 8668317)\n",
      "Dimensions without coordinates: receivedtimestamp\n",
      "Data variables: (12/18)\n",
      "    Datarate           (receivedtimestamp) object dask.array<chunksize=(135443,), meta=np.ndarray>\n",
      "    Frequency          (receivedtimestamp) int32 dask.array<chunksize=(270885,), meta=np.ndarray>\n",
      "    HexLocation        (receivedtimestamp) int64 dask.array<chunksize=(135443,), meta=np.ndarray>\n",
      "    HexScale           (receivedtimestamp) float32 dask.array<chunksize=(270885,), meta=np.ndarray>\n",
      "    InvalidReason      (receivedtimestamp) object dask.array<chunksize=(135443,), meta=np.ndarray>\n",
      "    Latitude           (receivedtimestamp) float32 dask.array<chunksize=(270885,), meta=np.ndarray>\n",
      "    ...                 ...\n",
      "    RewardUnit         (receivedtimestamp) int32 dask.array<chunksize=(270885,), meta=np.ndarray>\n",
      "    SNR                (receivedtimestamp) int32 dask.array<chunksize=(270885,), meta=np.ndarray>\n",
      "    Selected           (receivedtimestamp) int32 dask.array<chunksize=(270885,), meta=np.ndarray>\n",
      "    Signal             (receivedtimestamp) int32 dask.array<chunksize=(270885,), meta=np.ndarray>\n",
      "    Status             (receivedtimestamp) object dask.array<chunksize=(135443,), meta=np.ndarray>\n",
      "    Tmst               (receivedtimestamp) int64 dask.array<chunksize=(135443,), meta=np.ndarray>\n",
      "Start Date 2023-01-26T20:41:52.656000000\n",
      "End Date 2023-01-27T05:00:41.621000000\n",
      "\n"
     ]
    }
   ],
   "source": [
    "\n",
    "ipld_mapper = ipldstore.get_ipfs_mapper()\n",
    "cid_obj = CID.decode(\"bafyreigfq3tkn5gz25e2zszptevhs32sw5vpw7bkvgxh3l7hd6sp7jdwnm\")\n",
    "ripld_mapper = ipldstore.get_ipfs_mapper()\n",
    "rcid_obj = CID.decode(\"bafyreidmc6z6muggwxtstcs2nwvssor73wbkf67fy3pwdellsfzc2vs3mq\")\n",
    "print(rcid_obj)\n",
    "ipld_mapper.set_root(cid_obj)  # doctest: +SKIP\n",
    "ripld_mapper.set_root(rcid_obj)  # doctest: +SKIP\n",
    "#z = xr.open_zarr(ipld_mapper, group='received_beacons', consolidated=False)  # doctest: +SKIP\n",
    "sent_beacons = xr.open_zarr(ipld_mapper, consolidated=False)  # doctest: +SKIP\n",
    "received_beacons = xr.open_zarr(ripld_mapper, consolidated=False)  # doctest: +SKIP\n",
    "#print('z', z)  # doctest: +SKIP\n",
    "print('Sent', sent_beacons)\n",
    "print('Start Date', sent_beacons.ReceivedTimestamp[0].values)\n",
    "print('End Date', sent_beacons.ReceivedTimestamp[-1].values)\n",
    "print('')\n",
    "print('Received Beacons', received_beacons)\n",
    "print('Start Date', received_beacons.ReceivedTimestamp[0].values)\n",
    "print('End Date', received_beacons.ReceivedTimestamp[-1].values)\n",
    "print('')\n",
    "\n",
    "\n",
    "#df = z.to_dataframe()\n",
    "#df.to_csv('loc.csv')"
   ]
  },
  {
   "cell_type": "code",
   "execution_count": 4,
   "id": "e6fcf161",
   "metadata": {},
   "outputs": [
    {
     "data": {
      "image/png": "[encoded data removed]",
      "text/plain": [
       "<Figure size 432x288 with 1 Axes>"
      ]
     },
     "metadata": {
      "needs_background": "light"
     },
     "output_type": "display_data"
    }
   ],
   "source": [
    "z.Frequency.plot()\n",
    "plt.show()"
   ]
  },
  {
   "cell_type": "code",
   "execution_count": 36,
   "id": "bd876bd1",
   "metadata": {},
   "outputs": [
    {
     "name": "stdout",
     "output_type": "stream",
     "text": [
      "2023-01-26T20:41:50.996000000\n",
      "<xarray.DataArray 'Frequency' (receivedtimestamp: 345103)>\n",
      "dask.array<open_dataset-e911adad882c30500d83af20a4345247Frequency, shape=(345103,), dtype=int32, chunksize=(86276,), chunktype=numpy.ndarray>\n",
      "Coordinates:\n",
      "    Latitude   (receivedtimestamp) float32 dask.array<chunksize=(86276,), meta=np.ndarray>\n",
      "    Longitude  (receivedtimestamp) float32 dask.array<chunksize=(86276,), meta=np.ndarray>\n",
      "    PubKey     (receivedtimestamp) object dask.array<chunksize=(43138,), meta=np.ndarray>\n",
      "Dimensions without coordinates: receivedtimestamp\n",
      "Attributes:\n",
      "    units:    Hertz\n"
     ]
    }
   ],
   "source": [
    "import time\n",
    "print(sent_beacons.ReceivedTimestamp[0].values)\n",
    "print(sent_beacons.Frequency)\n",
    "\n",
    "#pk = sent_beacons.PubKey.sel()\n",
    "\n",
    "#t = sent_beacons.Frequency.sel(receivedtimestamp='2023-01-26T20:41:52.656000000')"
   ]
  },
  {
   "cell_type": "code",
   "execution_count": 32,
   "id": "f064ac9a",
   "metadata": {},
   "outputs": [
    {
     "name": "stdout",
     "output_type": "stream",
     "text": [
      "<xarray.Dataset>\n",
      "Dimensions:            (receivedtimestamp: 10)\n",
      "Dimensions without coordinates: receivedtimestamp\n",
      "Data variables: (12/18)\n",
      "    Datarate           (receivedtimestamp) object dask.array<chunksize=(10,), meta=np.ndarray>\n",
      "    Frequency          (receivedtimestamp) int32 dask.array<chunksize=(10,), meta=np.ndarray>\n",
      "    HexLocation        (receivedtimestamp) int64 dask.array<chunksize=(10,), meta=np.ndarray>\n",
      "    HexScale           (receivedtimestamp) float32 dask.array<chunksize=(10,), meta=np.ndarray>\n",
      "    InvalidReason      (receivedtimestamp) object dask.array<chunksize=(10,), meta=np.ndarray>\n",
      "    Latitude           (receivedtimestamp) float32 dask.array<chunksize=(10,), meta=np.ndarray>\n",
      "    ...                 ...\n",
      "    RewardUnit         (receivedtimestamp) int32 dask.array<chunksize=(10,), meta=np.ndarray>\n",
      "    SNR                (receivedtimestamp) int32 dask.array<chunksize=(10,), meta=np.ndarray>\n",
      "    Selected           (receivedtimestamp) int32 dask.array<chunksize=(10,), meta=np.ndarray>\n",
      "    Signal             (receivedtimestamp) int32 dask.array<chunksize=(10,), meta=np.ndarray>\n",
      "    Status             (receivedtimestamp) object dask.array<chunksize=(10,), meta=np.ndarray>\n",
      "    Tmst               (receivedtimestamp) int64 dask.array<chunksize=(10,), meta=np.ndarray>\n"
     ]
    }
   ],
   "source": [
    "time_window = z.isel(receivedtimestamp=slice(0,10))\n",
    "print(time_window)"
   ]
  },
  {
   "cell_type": "code",
   "execution_count": 31,
   "id": "44ea0d94",
   "metadata": {},
   "outputs": [
    {
     "data": {
      "text/plain": [
       "array([ -210, -1020,  -280,  -900,  -260,  -350, -1150,  -300, -1150,\n",
       "        -120])"
      ]
     },
     "execution_count": 31,
     "metadata": {},
     "output_type": "execute_result"
    }
   ],
   "source": [
    "time_window.Signal.values"
   ]
  },
  {
   "cell_type": "code",
   "execution_count": 35,
   "id": "c5530e2f",
   "metadata": {},
   "outputs": [],
   "source": []
  },
  {
   "cell_type": "code",
   "execution_count": null,
   "id": "6aca6105",
   "metadata": {},
   "outputs": [],
   "source": []
  }
 ],
 "metadata": {
  "kernelspec": {
   "display_name": "Python 3 (ipykernel)",
   "language": "python",
   "name": "python3"
  },
  "language_info": {
   "codemirror_mode": {
    "name": "ipython",
    "version": 3
   },
   "file_extension": ".py",
   "mimetype": "text/x-python",
   "name": "python",
   "nbconvert_exporter": "python",
   "pygments_lexer": "ipython3",
   "version": "3.10.1"
  }
 },
 "nbformat": 4,
 "nbformat_minor": 5
}
